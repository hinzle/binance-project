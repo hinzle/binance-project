{
 "cells": [
  {
   "cell_type": "markdown",
   "metadata": {},
   "source": [
    "# Imports"
   ]
  },
  {
   "cell_type": "code",
   "execution_count": 1,
   "metadata": {},
   "outputs": [
    {
     "name": "stderr",
     "output_type": "stream",
     "text": [
      "Intel(R) Extension for Scikit-learn* enabled (https://github.com/intel/scikit-learn-intelex)\n"
     ]
    }
   ],
   "source": [
    "# current filepath system leaves plenty to be desired\n",
    "import sys\n",
    "local_path = '/Users/hinzlehome/codeup-data-science/binance-project/'\n",
    "sys.path.insert(0, local_path)\n",
    "\n",
    "# imports.py in /utils/\n",
    "from utils.imports import *\n",
    "\n",
    "# plotting magic\n",
    "%matplotlib inline\n",
    "\n",
    "\n",
    "# !!! Warning !!! \n",
    "# *** no more warnings ***\n",
    "# import warnings\n",
    "# warnings.filterwarnings(\"ignore\")\n",
    "\n",
    "# custom mods\n"
   ]
  },
  {
   "cell_type": "code",
   "execution_count": 2,
   "metadata": {},
   "outputs": [
    {
     "data": {
      "text/plain": [
       "'{\"quote\":\"Never be limited by other people\\'s limited imaginations...If you adopt their attitudes, then the possibility won\\'t exist because you\\'ll have already shut it out...You can hear other people\\'s wisdom, but you\\'ve got to re-evaluate the world for yourself.\",\"author\":\"Dr. Mae Jemison\"}'"
      ]
     },
     "execution_count": 2,
     "metadata": {},
     "output_type": "execute_result"
    }
   ],
   "source": [
    "response = requests.get('http://aphorisms.glitch.me/')\n",
    "response.text"
   ]
  },
  {
   "cell_type": "code",
   "execution_count": null,
   "metadata": {},
   "outputs": [],
   "source": [
    "items=acquire_items()"
   ]
  },
  {
   "cell_type": "code",
   "execution_count": null,
   "metadata": {},
   "outputs": [],
   "source": [
    "len(items)"
   ]
  },
  {
   "cell_type": "code",
   "execution_count": null,
   "metadata": {},
   "outputs": [],
   "source": [
    "def acquire_stores():\n",
    "\tif os.path.exists('/Users/hinzlehome/codeup-data-science/time-series-exercises/csvs/stores.csv'):\n",
    "\t\tprint('cached csv')\n",
    "\t\tdf = pd.read_csv('/Users/hinzlehome/codeup-data-science/time-series-exercises/csvs/stores.csv')\n",
    "\t\treturn df\n",
    "\telse:\n",
    "\t\tdomain = 'https://api.data.codeup.com'\n",
    "\t\tendpoint = '/api/v1/stores'\n",
    "\t\tstores = []\n",
    "\t\tx=True\n",
    "\t\twhile x:\n",
    "\t\t\turl = domain + endpoint\n",
    "\t\t\tresponse = requests.get(url)\n",
    "\t\t\tdata = response.json()\n",
    "\t\t\tstores.extend(data['payload']['stores'])\n",
    "\t\t\tendpoint = data['payload']['next_page']\n",
    "\t\t\tif data['payload']['next_page'] == None:\n",
    "\t\t\t\tx=False\n",
    "\t\t\t\tstores=pd.DataFrame(stores)\n",
    "\t\t\t\tstores.to_csv('/Users/hinzlehome/codeup-data-science/time-series-exercises/csvs/stores.csv', index=False)\n",
    "\t\t\t\treturn stores\n",
    "\t\t\telse:\n",
    "\t\t\t\tcontinue"
   ]
  },
  {
   "cell_type": "code",
   "execution_count": null,
   "metadata": {},
   "outputs": [],
   "source": [
    "stores=acquire_stores()"
   ]
  },
  {
   "cell_type": "code",
   "execution_count": null,
   "metadata": {},
   "outputs": [],
   "source": [
    "len(stores)"
   ]
  },
  {
   "cell_type": "code",
   "execution_count": null,
   "metadata": {},
   "outputs": [],
   "source": [
    "def acquire_sales():\n",
    "\tif os.path.exists('/Users/hinzlehome/codeup-data-science/time-series-exercises/csvs/sales.csv'):\n",
    "\t\tprint('cached csv')\n",
    "\t\tdf = pd.read_csv('/Users/hinzlehome/codeup-data-science/time-series-exercises/csvs/sales.csv')\n",
    "\t\treturn df\n",
    "\telse:\n",
    "\t\tdomain = 'https://api.data.codeup.com'\n",
    "\t\tendpoint = '/api/v1/sales'\n",
    "\t\tsales = []\n",
    "\t\twhile True:\n",
    "\t\t\turl = domain + endpoint\n",
    "\t\t\tresponse = requests.get(url)\n",
    "\t\t\tdata = response.json()\n",
    "\t\t\tsales.extend(data['payload']['sales'])\n",
    "\t\t\tendpoint = data['payload']['next_page']\n",
    "\t\t\tif endpoint == None:\n",
    "\t\t\t\tsales=pd.DataFrame(sales)\n",
    "\t\t\t\tsales.to_csv('/Users/hinzlehome/codeup-data-science/time-series-exercises/csvs/sales.csv', index=False)\n",
    "\t\t\t\treturn sales\n",
    "\t\t\telse:\n",
    "\t\t\t\tcontinue"
   ]
  },
  {
   "cell_type": "code",
   "execution_count": null,
   "metadata": {},
   "outputs": [],
   "source": [
    "sales=acquire_sales()"
   ]
  },
  {
   "cell_type": "code",
   "execution_count": null,
   "metadata": {},
   "outputs": [],
   "source": [
    "sales.info()"
   ]
  },
  {
   "cell_type": "code",
   "execution_count": null,
   "metadata": {},
   "outputs": [],
   "source": [
    "def merge_on_sales():\n",
    "\tstores=acquire_stores()\n",
    "\titems=acquire_items()\n",
    "\tsales=acquire_sales()\n",
    "\n",
    "\tsales = sales.rename(columns={'item': 'item_id', 'store': 'store_id'})\n",
    "\tsales=sales.merge(items,on='item_id')\n",
    "\tsales=sales.merge(stores,on='store_id')\n",
    "\n",
    "\treturn sales\n",
    "\t"
   ]
  },
  {
   "cell_type": "code",
   "execution_count": null,
   "metadata": {},
   "outputs": [],
   "source": [
    "sales=merge_on_sales()"
   ]
  },
  {
   "cell_type": "code",
   "execution_count": null,
   "metadata": {},
   "outputs": [],
   "source": [
    "sales.head()"
   ]
  },
  {
   "cell_type": "code",
   "execution_count": null,
   "metadata": {},
   "outputs": [],
   "source": [
    "def de_elec():\n",
    "\tif os.path.exists('/Users/hinzlehome/codeup-data-science/time-series-exercises/csvs/opsd_germany_daily.csv'):\n",
    "\t\tde_elec=pd.read_csv('/Users/hinzlehome/codeup-data-science/time-series-exercises/csvs/opsd_germany_daily.csv')\n",
    "\t\treturn de_elec\n",
    "\telse:\n",
    "\t\tprint('csv not found')"
   ]
  },
  {
   "cell_type": "code",
   "execution_count": null,
   "metadata": {},
   "outputs": [],
   "source": [
    "df=de_elec()"
   ]
  },
  {
   "cell_type": "code",
   "execution_count": null,
   "metadata": {},
   "outputs": [],
   "source": [
    "df.head()"
   ]
  }
 ],
 "metadata": {
  "interpreter": {
   "hash": "3067ead486e059ec00ffe7555bdb889e6e264a24dc711bf108106cc7baee8d5d"
  },
  "kernelspec": {
   "display_name": "Python 3 (ipykernel)",
   "language": "python",
   "name": "python3"
  },
  "language_info": {
   "codemirror_mode": {
    "name": "ipython",
    "version": 3
   },
   "file_extension": ".py",
   "mimetype": "text/x-python",
   "name": "python",
   "nbconvert_exporter": "python",
   "pygments_lexer": "ipython3",
   "version": "3.9.12"
  }
 },
 "nbformat": 4,
 "nbformat_minor": 2
}
