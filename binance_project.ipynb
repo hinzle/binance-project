{
 "cells": [
  {
   "cell_type": "markdown",
   "metadata": {},
   "source": [
    "# Binance Project"
   ]
  },
  {
   "cell_type": "markdown",
   "metadata": {},
   "source": [
    "# The Plan\n",
    "\n",
    "## 1. Tidy Data Analysis\n",
    "\n",
    "Imports used can be found in `imports.py`. (Please ensure libraries are installed for package support).\n",
    "\n",
    "In this stage, I obtained btcusd trading pair data by querying the Binance REST API hosted at <https://api.binance.us/api/v3/klines>. \n",
    "\n",
    "I cleaned and prepped the data by:\n",
    "  - preparing column labels.\n",
    "  - setting `'close_time'` as `datetime`.\n",
    "  - setting `'close_time'` as index.\n",
    "  - spliting dataset into train, validate, and test.\n",
    "\n",
    "## 2. Exploratory Data Analysis\n",
    "\n",
    "  I conducted an initial exploration of the data by examing relationships between each of the features and treated close price as a target. Next, I explored further using premier tools such as Pandas, Python, Statsmodels, etc..., to answer the initial questions posed above. Data exploration continues by delving into the descriptive statistics of the dataset. Further investigation includes up / down -sampling, frequency analysis, lag response, and autocorrelation. I found the frequency analysis revealed potential price indicators.\n",
    "\n",
    "## 3. Predictive Model Analysis\n",
    "\n",
    "  I used data from 2022 April 26 from approximately 03:30 - 20:30 to determine if the candlestick close price, in conjuncture with the time index, could be used to determine future close prices, then modeled what the predicted values would like against the acutal values. I offer several models that attempt to predict the future price of btcusd trading pair. I used a last observed value (lov), average, 15 minute simple moving average from TAlib, and a basic Holt's linear trend. Root mean square errors (RMSE) are reported for comparison.\n"
   ]
  },
  {
   "cell_type": "markdown",
   "metadata": {},
   "source": [
    "# Executive Summary\n",
    "\n",
    "## Big Idea\n",
    "\n",
    "Predict near-future bitcoin prices.\n",
    "\n",
    "## Goals\n",
    "\n",
    "1. Use descriptive statistics to identify key price points\n",
    "2. Predict future price of bitcoin\n",
    "\n",
    "## Key Findings\n",
    "\n",
    "> \"The future is certain. It is just not known.\"\n",
    "> - Johnny Rich\n",
    "\n",
    "1. Frequency analysis revealed potential price indicators.\n",
    "2. Additional modeling may be more predictive.\n",
    "\n",
    "## Recomendations\n",
    "\n",
    "1. Use price indicators for portfolio.\n",
    "2. Explore multi-model performance.\n",
    "   - i.e. SMA(15) overlap SMA(30)\n"
   ]
  },
  {
   "cell_type": "markdown",
   "metadata": {},
   "source": [
    "# Findings' Visualizations\n",
    "\n",
    "Here we see the data flow to our final product."
   ]
  },
  {
   "cell_type": "code",
   "execution_count": 1,
   "metadata": {},
   "outputs": [
    {
     "name": "stderr",
     "output_type": "stream",
     "text": [
      "Intel(R) Extension for Scikit-learn* enabled (https://github.com/intel/scikit-learn-intelex)\n"
     ]
    }
   ],
   "source": [
    "# imports.py in /utils/\n",
    "from utils.imports import *\n",
    "\n",
    "# plotting magic\n",
    "%matplotlib inline\n",
    "# plotting defaults\n",
    "plt.rc('figure', figsize=(16, 9))\n",
    "plt.style.use('seaborn-darkgrid')\n",
    "plt.rc('font', size=16)\n",
    "# plt.style.available\n",
    "# ^^^ show available seaborn styles\n",
    "\n",
    "# !!! Warning !!! \n",
    "# *** no more warnings ***\n",
    "# import warnings\n",
    "# warnings.filterwarnings(\"ignore\")\n",
    "\n",
    "# custom mods\n",
    "from utils.tidy import *\n",
    "from utils.model import *"
   ]
  },
  {
   "cell_type": "markdown",
   "metadata": {},
   "source": [
    "# Recommendations"
   ]
  },
  {
   "cell_type": "markdown",
   "metadata": {},
   "source": [
    "# \"What If... \" Visualizations"
   ]
  },
  {
   "cell_type": "markdown",
   "metadata": {},
   "source": [
    "# Conclusion"
   ]
  },
  {
   "cell_type": "markdown",
   "metadata": {},
   "source": [
    "# Next Steps"
   ]
  },
  {
   "cell_type": "markdown",
   "metadata": {},
   "source": [
    "# Appendix"
   ]
  },
  {
   "cell_type": "markdown",
   "metadata": {},
   "source": [
    "Data dictionary:\n",
    "\n",
    "Variables |Definition\n",
    "--- | ---\n",
    "Open time | time candlestick opened\n",
    "Open | price at open\n",
    "High | highest price during 1 minute interval\n",
    "Low | highest price during 1 minute interval\n",
    "Close | price at close\n",
    "Volume | number of $USD traded during 1 minute interval\n",
    "Close time | time candlestick closed\n",
    "Quote asset volume | n/a\n",
    "Number of trades | n/a\n",
    "Taker buy base asset volume | n/a\n",
    "Taker buy quote asset volume | n/a\n",
    "Ignore | n/a\n",
    "\n",
    "```text\n",
    "Example data entry:\n",
    "\n",
    "1499040000000,      // Open time\n",
    "\"0.00386200\",       // Open\n",
    "\"0.00386200\",       // High\n",
    "\"0.00386200\",       // Low\n",
    "\"0.00386200\",       // Close\n",
    "\"0.47000000\",  // Volume\n",
    "1499644799999,      // Close time\n",
    "\"0.00181514\",    // Quote asset volume\n",
    "1,                // Number of trades\n",
    "\"0.47000000\",    // Taker buy base asset volume\n",
    "\"0.00181514\",      // Taker buy quote asset volume\n",
    "\"0\" // Ignore.\n",
    "\n",
    "```\n"
   ]
  }
 ],
 "metadata": {
  "interpreter": {
   "hash": "3067ead486e059ec00ffe7555bdb889e6e264a24dc711bf108106cc7baee8d5d"
  },
  "kernelspec": {
   "display_name": "Python 3.9.12 ('base')",
   "language": "python",
   "name": "python3"
  },
  "language_info": {
   "codemirror_mode": {
    "name": "ipython",
    "version": 3
   },
   "file_extension": ".py",
   "mimetype": "text/x-python",
   "name": "python",
   "nbconvert_exporter": "python",
   "pygments_lexer": "ipython3",
   "version": "3.9.12"
  },
  "orig_nbformat": 4
 },
 "nbformat": 4,
 "nbformat_minor": 2
}
