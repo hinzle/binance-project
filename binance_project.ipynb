{
 "cells": [
  {
   "cell_type": "markdown",
   "metadata": {},
   "source": [
    "# Title"
   ]
  },
  {
   "cell_type": "markdown",
   "metadata": {},
   "source": [
    "# Agenda"
   ]
  },
  {
   "cell_type": "markdown",
   "metadata": {},
   "source": [
    "# Executive Summary"
   ]
  },
  {
   "cell_type": "markdown",
   "metadata": {},
   "source": [
    "# Findings' Visualizations"
   ]
  },
  {
   "cell_type": "markdown",
   "metadata": {},
   "source": [
    "# Recommendations"
   ]
  },
  {
   "cell_type": "markdown",
   "metadata": {},
   "source": [
    "# \"What If... \" Visualizations"
   ]
  },
  {
   "cell_type": "markdown",
   "metadata": {},
   "source": [
    "# Conclusion"
   ]
  },
  {
   "cell_type": "markdown",
   "metadata": {},
   "source": [
    "# Next Steps"
   ]
  },
  {
   "cell_type": "markdown",
   "metadata": {},
   "source": [
    "# Appendix"
   ]
  },
  {
   "cell_type": "markdown",
   "metadata": {},
   "source": [
    "Data dictionary:\n",
    "\n",
    "Variables |Definition\n",
    "--- | ---\n",
    "Open time | time candlestick opened\n",
    "Open | price at open\n",
    "High | highest price during 1 minute interval\n",
    "Low | highest price during 1 minute interval\n",
    "Close | price at close\n",
    "Volume | number of $USD traded during 1 minute interval\n",
    "Close time | time candlestick closed\n",
    "Quote asset volume | n/a\n",
    "Number of trades | n/a\n",
    "Taker buy base asset volume | n/a\n",
    "Taker buy quote asset volume | n/a\n",
    "Ignore | n/a\n",
    "\n",
    "```text\n",
    "Example data entry\"\n",
    "\n",
    "1499040000000,      // Open time\n",
    "\"0.00386200\",       // Open\n",
    "\"0.00386200\",       // High\n",
    "\"0.00386200\",       // Low\n",
    "\"0.00386200\",       // Close\n",
    "\"0.47000000\",  // Volume\n",
    "1499644799999,      // Close time\n",
    "\"0.00181514\",    // Quote asset volume\n",
    "1,                // Number of trades\n",
    "\"0.47000000\",    // Taker buy base asset volume\n",
    "\"0.00181514\",      // Taker buy quote asset volume\n",
    "\"0\" // Ignore.\n",
    "\n",
    "```\n"
   ]
  }
 ],
 "metadata": {
  "interpreter": {
   "hash": "3067ead486e059ec00ffe7555bdb889e6e264a24dc711bf108106cc7baee8d5d"
  },
  "kernelspec": {
   "display_name": "Python 3.9.12 ('base')",
   "language": "python",
   "name": "python3"
  },
  "language_info": {
   "codemirror_mode": {
    "name": "ipython",
    "version": 3
   },
   "file_extension": ".py",
   "mimetype": "text/x-python",
   "name": "python",
   "nbconvert_exporter": "python",
   "pygments_lexer": "ipython3",
   "version": "3.9.12"
  },
  "orig_nbformat": 4
 },
 "nbformat": 4,
 "nbformat_minor": 2
}
